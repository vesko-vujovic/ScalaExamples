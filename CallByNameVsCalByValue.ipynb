{
 "cells": [
  {
   "cell_type": "markdown",
   "id": "797fc890-fdc7-4922-8271-f49371a96e97",
   "metadata": {
    "tags": []
   },
   "source": [
    "### Call By Name vs Call By Value "
   ]
  },
  {
   "cell_type": "markdown",
   "id": "f73d67d9-1f4e-4c7e-8acc-951aa083867f",
   "metadata": {
    "tags": []
   },
   "source": [
    "## Call By Value"
   ]
  },
  {
   "cell_type": "code",
   "execution_count": 4,
   "id": "352e78b1-25c4-4ed5-a60c-91c0dd91ff0a",
   "metadata": {},
   "outputs": [
    {
     "data": {
      "text/plain": [
       "defined \u001b[32mfunction\u001b[39m \u001b[36maddTwo\u001b[39m"
      ]
     },
     "execution_count": 4,
     "metadata": {},
     "output_type": "execute_result"
    }
   ],
   "source": [
    "def add(x: Int, y: Int) = x + x"
   ]
  },
  {
   "cell_type": "code",
   "execution_count": 6,
   "id": "cc59dc31-8be5-4f86-9419-df6480a219ad",
   "metadata": {},
   "outputs": [
    {
     "data": {
      "text/plain": [
       "\u001b[36mres5\u001b[39m: \u001b[32mInt\u001b[39m = \u001b[32m32\u001b[39m"
      ]
     },
     "execution_count": 6,
     "metadata": {},
     "output_type": "execute_result"
    }
   ],
   "source": [
    "add(4*4, 2-1)    // first function call\n",
    "// add(16, 2-1) // first reduction of (4*4) to 16 \n",
    "// add(16, 1)  // second reduction (2-1) to 1\n",
    "// 16 + 16       // third reduction\n",
    "// 32           // final reduction\n"
   ]
  },
  {
   "cell_type": "markdown",
   "id": "acf29d09-0573-40cf-867d-6afd05ad8bcb",
   "metadata": {
    "tags": []
   },
   "source": [
    "## Call By Name"
   ]
  },
  {
   "cell_type": "code",
   "execution_count": 9,
   "id": "086686f8-8125-42b1-a89f-d80e5ff1e065",
   "metadata": {},
   "outputs": [
    {
     "data": {
      "text/plain": [
       "defined \u001b[32mfunction\u001b[39m \u001b[36madd\u001b[39m"
      ]
     },
     "execution_count": 9,
     "metadata": {},
     "output_type": "execute_result"
    }
   ],
   "source": [
    "def add(x: Int, y: Int => Int) = x + x"
   ]
  },
  {
   "cell_type": "code",
   "execution_count": 7,
   "id": "65b33c56-f7c0-48ac-91dc-0151432ebdfe",
   "metadata": {},
   "outputs": [
    {
     "data": {
      "text/plain": [
       "\u001b[36mres6\u001b[39m: \u001b[32mInt\u001b[39m = \u001b[32m32\u001b[39m"
      ]
     },
     "execution_count": 7,
     "metadata": {},
     "output_type": "execute_result"
    }
   ],
   "source": [
    "add(4*4, 2-1)  // first function call\n",
    "(4*4) + (4*4) // first reduction\n",
    "16 + (4*4)   // second reduction\n",
    "16 + 16     // third reduction\n",
    "32          // final reduction"
   ]
  },
  {
   "cell_type": "markdown",
   "id": "35a3dcf1-8c31-4f1f-b6aa-f84789695101",
   "metadata": {
    "tags": []
   },
   "source": [
    "# Stumbling stone"
   ]
  },
  {
   "cell_type": "code",
   "execution_count": 13,
   "id": "318ec2a2-68ea-4b0c-bb00-30f67e4ffe8a",
   "metadata": {},
   "outputs": [
    {
     "data": {
      "text/plain": [
       "defined \u001b[32mfunction\u001b[39m \u001b[36maddByValue\u001b[39m\n",
       "defined \u001b[32mfunction\u001b[39m \u001b[36maddByName\u001b[39m\n",
       "defined \u001b[32mfunction\u001b[39m \u001b[36miWillRunUntilEternity\u001b[39m"
      ]
     },
     "execution_count": 13,
     "metadata": {},
     "output_type": "execute_result"
    }
   ],
   "source": [
    "def addByValue(x: Int, y: Int) = x + x\n",
    "def addByName(x: Int, y => Int) = x + x\n",
    "def iWillRunUntilEternity(): Unit = iWillRunUntilEternity"
   ]
  },
  {
   "cell_type": "markdown",
   "id": "b02dd0c0-87d4-4992-b0b9-db9f40999518",
   "metadata": {},
   "source": [
    "# Performance"
   ]
  },
  {
   "cell_type": "code",
   "execution_count": 71,
   "id": "ae5a24c6-a379-44c4-910b-463eea5acbd5",
   "metadata": {},
   "outputs": [
    {
     "data": {
      "text/plain": [
       "defined \u001b[32mfunction\u001b[39m \u001b[36mgetOne\u001b[39m\n",
       "defined \u001b[32mfunction\u001b[39m \u001b[36mcallByValue\u001b[39m\n",
       "defined \u001b[32mfunction\u001b[39m \u001b[36mcallByName\u001b[39m"
      ]
     },
     "execution_count": 71,
     "metadata": {},
     "output_type": "execute_result"
    }
   ],
   "source": [
    "def getOne() = {\n",
    "    println(\"calling getOne\")\n",
    "    1\n",
    "}\n",
    "\n",
    "\n",
    "def callByValue(x: Int) = {\n",
    "\n",
    "\n",
    "    println(\"Calling callByName\")\n",
    "    \n",
    "    x+x\n",
    "}\n",
    "def callByName(x: => Int) = {\n",
    "    \n",
    "    println(\"Calling callByName\")\n",
    "    x + x\n",
    "}"
   ]
  },
  {
   "cell_type": "code",
   "execution_count": 72,
   "id": "aed87c73-77a9-4044-9ffd-5fc0f9b7dca7",
   "metadata": {},
   "outputs": [
    {
     "name": "stdout",
     "output_type": "stream",
     "text": [
      "calling getOne\n",
      "Calling callByName\n"
     ]
    },
    {
     "data": {
      "text/plain": [
       "\u001b[36mres71\u001b[39m: \u001b[32mInt\u001b[39m = \u001b[32m2\u001b[39m"
      ]
     },
     "execution_count": 72,
     "metadata": {},
     "output_type": "execute_result"
    }
   ],
   "source": [
    "callByValue(getOne)"
   ]
  },
  {
   "cell_type": "code",
   "execution_count": 73,
   "id": "5366407e-37d6-498d-ad49-89d806ae5b30",
   "metadata": {},
   "outputs": [
    {
     "name": "stdout",
     "output_type": "stream",
     "text": [
      "Calling callByName\n",
      "calling getOne\n",
      "calling getOne\n"
     ]
    },
    {
     "data": {
      "text/plain": [
       "\u001b[36mres72\u001b[39m: \u001b[32mInt\u001b[39m = \u001b[32m2\u001b[39m"
      ]
     },
     "execution_count": 73,
     "metadata": {},
     "output_type": "execute_result"
    }
   ],
   "source": [
    "callByName(getOne)"
   ]
  },
  {
   "cell_type": "code",
   "execution_count": null,
   "id": "a9810e39-1b6a-4684-b1d5-121a47963675",
   "metadata": {},
   "outputs": [],
   "source": []
  },
  {
   "cell_type": "code",
   "execution_count": null,
   "id": "3f4d4693-5aa7-416f-b39b-0de2549bee23",
   "metadata": {},
   "outputs": [],
   "source": []
  }
 ],
 "metadata": {
  "kernelspec": {
   "display_name": "Scala",
   "language": "scala",
   "name": "scala"
  },
  "language_info": {
   "codemirror_mode": "text/x-scala",
   "file_extension": ".sc",
   "mimetype": "text/x-scala",
   "name": "scala",
   "nbconvert_exporter": "script",
   "version": "2.13.8"
  }
 },
 "nbformat": 4,
 "nbformat_minor": 5
}
